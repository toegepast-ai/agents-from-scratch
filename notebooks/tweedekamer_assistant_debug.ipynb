{
 "cells": [
  {
   "cell_type": "markdown",
   "id": "00765002",
   "metadata": {},
   "source": [
    "# Tweede Kamer Assistant - Debug Notebook\n",
    "\n",
    "Deze notebook bevat de Tweede Kamer Assistant code opgedeeld in secties voor makkelijker debuggen.\n",
    "Je kunt elke cel apart runnen en de state tussen stappen inspecteren."
   ]
  },
  {
   "cell_type": "markdown",
   "id": "3463aa86",
   "metadata": {},
   "source": [
    "## 1. Imports en Setup\n",
    "\n",
    "Alle imports en basis configuratie."
   ]
  },
  {
   "cell_type": "code",
   "execution_count": 58,
   "id": "02318c9e",
   "metadata": {},
   "outputs": [
    {
     "name": "stdout",
     "output_type": "stream",
     "text": [
      "✅ Imports loaded successfully\n"
     ]
    }
   ],
   "source": [
    "from typing import Literal\n",
    "\n",
    "from langchain.chat_models import init_chat_model\n",
    "\n",
    "from langgraph.graph import StateGraph, START, END\n",
    "from langgraph.store.base import BaseStore\n",
    "from langgraph.store.memory import InMemoryStore\n",
    "from langgraph.types import interrupt, Command\n",
    "\n",
    "from email_assistant.tools import get_tools, get_tools_by_name\n",
    "from email_assistant.tools.gmail.prompt_templates import TOOLS_TWEEDEKAMER_PROMPT\n",
    "from email_assistant.tools.gmail.gmail_tools import mark_as_read\n",
    "from email_assistant.tools.default.tweedekamer_tools import (\n",
    "    search_kamerleden,\n",
    "    get_kamerstukken, \n",
    "    search_vergaderingen,\n",
    "    get_stemmingen,\n",
    "    search_commissies,\n",
    "    clarification_tool\n",
    ")\n",
    "from email_assistant.prompts import (\n",
    "    triage_system_prompt, \n",
    "    triage_user_prompt, \n",
    "    tweedekamer_background, \n",
    "    tweedekamer_triage_instructions, \n",
    "    agent_system_prompt_tweedekamer,\n",
    "    tweedekamer_response_preferences,\n",
    "    default_cal_preferences, \n",
    "    MEMORY_UPDATE_INSTRUCTIONS, \n",
    "    MEMORY_UPDATE_INSTRUCTIONS_REINFORCEMENT\n",
    ")\n",
    "from email_assistant.schemas import State, RouterSchema, StateInput, UserPreferences\n",
    "from email_assistant.utils import parse_gmail, format_for_display, format_gmail_markdown\n",
    "from dotenv import load_dotenv\n",
    "\n",
    "load_dotenv(\".env\")\n",
    "\n",
    "print(\"✅ Imports loaded successfully\")"
   ]
  },
  {
   "cell_type": "markdown",
   "id": "c027ccd1",
   "metadata": {},
   "source": [
    "## 2. Tools Configuration\n",
    "\n",
    "Setup van alle tools (Gmail + Tweede Kamer API tools)."
   ]
  },
  {
   "cell_type": "code",
   "execution_count": 59,
   "id": "b715ba82",
   "metadata": {},
   "outputs": [
    {
     "name": "stdout",
     "output_type": "stream",
     "text": [
      "📧 Gmail tools: ['send_email_tool', 'Question', 'Done']\n",
      "🏛️ Tweede Kamer tools: ['search_kamerleden', 'get_kamerstukken', 'search_vergaderingen', 'get_stemmingen', 'search_commissies', 'clarification_tool']\n",
      "🔧 Total tools available: 9\n"
     ]
    }
   ],
   "source": [
    "# Get Gmail tools + Dutch Parliament tools\n",
    "gmail_tools = get_tools([\"send_email_tool\", \"Question\", \"Done\"], include_gmail=True)\n",
    "tweedekamer_tools = [search_kamerleden, get_kamerstukken, search_vergaderingen, get_stemmingen, search_commissies, clarification_tool]\n",
    "\n",
    "# Combine all tools\n",
    "tools = gmail_tools + tweedekamer_tools\n",
    "tools_by_name = get_tools_by_name(tools)\n",
    "\n",
    "print(f\"📧 Gmail tools: {[t.name for t in gmail_tools]}\")\n",
    "print(f\"🏛️ Tweede Kamer tools: {[t.name for t in tweedekamer_tools]}\")\n",
    "print(f\"🔧 Total tools available: {len(tools)}\")"
   ]
  },
  {
   "cell_type": "markdown",
   "id": "1bdb04d3",
   "metadata": {},
   "source": [
    "## 3. LLM Configuration\n",
    "\n",
    "Setup van de LLM instances voor router en agent."
   ]
  },
  {
   "cell_type": "code",
   "execution_count": 60,
   "id": "d56efb10",
   "metadata": {},
   "outputs": [
    {
     "name": "stdout",
     "output_type": "stream",
     "text": [
      "🤖 LLM instances configured:\n",
      "   - Router LLM: first=RunnableBinding(bound=ChatOpenAI(client=<openai.resources.chat.completions.completions.Completions object at 0x77b8483eeb10>, async_client=<openai.resources.chat.completions.completions.AsyncCompletions object at 0x77b8483ee180>, root_client=<openai.OpenAI object at 0x77b8483ee150>, root_async_client=<openai.AsyncOpenAI object at 0x77b8483ef380>, model_name='gpt-4.1', temperature=0.0, model_kwargs={}, openai_api_key=SecretStr('**********')), kwargs={'response_format': <class 'email_assistant.schemas.RouterSchema'>, 'ls_structured_output_format': {'kwargs': {'method': 'json_schema', 'strict': None}, 'schema': {'type': 'function', 'function': {'name': 'RouterSchema', 'description': 'Analyze the unread email and route it according to its content.', 'parameters': {'properties': {'reasoning': {'description': 'Step-by-step reasoning behind the classification.', 'type': 'string'}, 'classification': {'description': \"The classification of an email: 'ignore' for irrelevant emails, 'notify' for important information that doesn't need a response, 'respond' for emails that need a reply\", 'enum': ['ignore', 'respond', 'notify'], 'type': 'string'}}, 'required': ['reasoning', 'classification'], 'type': 'object'}}}}}, config={}, config_factories=[]) middle=[] last=RunnableBinding(bound=RunnableLambda(...), kwargs={}, config={}, config_factories=[], custom_output_type=<class 'email_assistant.schemas.RouterSchema'>)\n",
      "   - Agent LLM with tools: bound=ChatOpenAI(client=<openai.resources.chat.completions.completions.Completions object at 0x77b8347ae030>, async_client=<openai.resources.chat.completions.completions.AsyncCompletions object at 0x77b85062f7d0>, root_client=<openai.OpenAI object at 0x77b850622240>, root_async_client=<openai.AsyncOpenAI object at 0x77b8347afce0>, model_name='gpt-4.1', temperature=0.0, model_kwargs={}, openai_api_key=SecretStr('**********')) kwargs={'tools': [{'type': 'function', 'function': {'name': 'send_email_tool', 'description': 'Send a reply to an existing email thread or create a new email in Gmail.\\n\\nArgs:\\n    email_id: Gmail message ID to reply to. This should be a valid Gmail message ID obtained from the fetch_emails_tool. \\n             If creating a new email rather than replying, you can use any string identifier like \"NEW_EMAIL\".\\n    response_text: Content of the reply or new email\\n    email_address: Current user\\'s email address (the sender)\\n    additional_recipients: Optional additional recipients to include\\n\\nReturns:\\n    Confirmation message', 'parameters': {'properties': {'email_id': {'description': \"Gmail message ID to reply to. This must be a valid Gmail message ID obtained from the fetch_emails_tool. If you're creating a new email (not replying), you can use any string like 'NEW_EMAIL'.\", 'type': 'string'}, 'response_text': {'description': 'Content of the reply', 'type': 'string'}, 'email_address': {'description': \"Current user's email address\", 'type': 'string'}, 'additional_recipients': {'anyOf': [{'items': {'type': 'string'}, 'type': 'array'}, {'type': 'null'}], 'default': None, 'description': 'Optional additional recipients to include'}}, 'required': ['email_id', 'response_text', 'email_address'], 'type': 'object'}}}, {'type': 'function', 'function': {'name': 'Question', 'description': 'Question to ask user.', 'parameters': {'properties': {'content': {'type': 'string'}}, 'required': ['content'], 'type': 'object'}}}, {'type': 'function', 'function': {'name': 'Done', 'description': 'E-mail has been sent.', 'parameters': {'properties': {'done': {'type': 'boolean'}}, 'required': ['done'], 'type': 'object'}}}, {'type': 'function', 'function': {'name': 'search_kamerleden', 'description': \"Zoek Kamerleden op basis van naam, functie of status.\\n\\nArgs:\\n    naam: Deel van de naam om op te zoeken\\n    functie: 'Tweede Kamerlid', 'Eerste Kamerlid', etc.\\n    actief: True voor alleen actieve leden\\n    limit: Maximum aantal resultaten\", 'parameters': {'properties': {'naam': {'anyOf': [{'type': 'string'}, {'type': 'null'}], 'default': None}, 'functie': {'anyOf': [{'type': 'string'}, {'type': 'null'}], 'default': None}, 'actief': {'default': True, 'type': 'boolean'}, 'limit': {'default': 25, 'type': 'integer'}}, 'type': 'object'}}}, {'type': 'function', 'function': {'name': 'get_kamerstukken', 'description': \"Haal recente kamerstukken op (moties, amendementen, wetsvoorstellen).\\n\\nArgs:\\n    soort: 'Motie', 'Amendement', 'Wetsvoorstel', etc.\\n    dagen_terug: Aantal dagen terug om te zoeken\\n    zoekterm: Zoekterm in titel/onderwerp\\n    limit: Maximum aantal resultaten\", 'parameters': {'properties': {'soort': {'anyOf': [{'type': 'string'}, {'type': 'null'}], 'default': None}, 'dagen_terug': {'default': 30, 'type': 'integer'}, 'zoekterm': {'anyOf': [{'type': 'string'}, {'type': 'null'}], 'default': None}, 'limit': {'default': 25, 'type': 'integer'}}, 'type': 'object'}}}, {'type': 'function', 'function': {'name': 'search_vergaderingen', 'description': 'Zoek vergaderingen van commissies of plenaire sessies.\\n\\nArgs:\\n    commissie: Naam van de commissie\\n    dagen_vooruit: Aantal dagen vooruit om te zoeken\\n    dagen_terug: Aantal dagen terug om te zoeken\\n    limit: Maximum aantal resultaten', 'parameters': {'properties': {'commissie': {'anyOf': [{'type': 'string'}, {'type': 'null'}], 'default': None}, 'dagen_vooruit': {'default': 14, 'type': 'integer'}, 'dagen_terug': {'default': 7, 'type': 'integer'}, 'limit': {'default': 25, 'type': 'integer'}}, 'type': 'object'}}}, {'type': 'function', 'function': {'name': 'get_stemmingen', 'description': 'Haal recente stemmingen op.\\n\\nArgs:\\n    dagen_terug: Aantal dagen terug om te zoeken\\n    zaak_onderwerp: Zoekterm in het onderwerp van de zaak\\n    limit: Maximum aantal resultaten', 'parameters': {'properties': {'dagen_terug': {'default': 7, 'type': 'integer'}, 'zaak_onderwerp': {'anyOf': [{'type': 'string'}, {'type': 'null'}], 'default': None}, 'limit': {'default': 25, 'type': 'integer'}}, 'type': 'object'}}}, {'type': 'function', 'function': {'name': 'search_commissies', 'description': 'Zoek commissies op basis van naam.\\n\\nArgs:\\n    naam: Deel van de commissienaam om op te zoeken\\n    actief: True voor alleen actieve commissies\\n    limit: Maximum aantal resultaten', 'parameters': {'properties': {'naam': {'anyOf': [{'type': 'string'}, {'type': 'null'}], 'default': None}, 'actief': {'default': True, 'type': 'boolean'}, 'limit': {'default': 25, 'type': 'integer'}}, 'type': 'object'}}}, {'type': 'function', 'function': {'name': 'clarification_tool', 'description': 'Vraag om aanvullende informatie om API-calls te verbeteren.\\nGeeft intelligente suggesties en opties aan de gebruiker.\\n\\nArgs:\\n    target_tool: De tool waarvoor meer informatie nodig is (bijv. \\'search_kamerleden\\', \\'get_kamerstukken\\')\\n    missing_or_unclear_params: Lijst van parameters die ontbreken of onduidelijk zijn\\n    user_request_context: Context van het oorspronkelijke verzoek van de gebruiker\\n    suggestions: Optionele suggesties per parameter (bijv. {\"functie\": [\"Tweede Kamerlid\", \"Eerste Kamerlid\"]})', 'parameters': {'properties': {'target_tool': {'type': 'string'}, 'missing_or_unclear_params': {'items': {'type': 'string'}, 'type': 'array'}, 'user_request_context': {'type': 'string'}, 'suggestions': {'anyOf': [{'additionalProperties': {'items': {'type': 'string'}, 'type': 'array'}, 'type': 'object'}, {'type': 'null'}], 'default': None}}, 'required': ['target_tool', 'missing_or_unclear_params', 'user_request_context'], 'type': 'object'}}}], 'tool_choice': 'auto'} config={} config_factories=[]\n"
     ]
    }
   ],
   "source": [
    "# Initialize the LLM for use with router / structured output\n",
    "llm = init_chat_model(\"openai:gpt-4.1\", temperature=0.0)\n",
    "llm_router = llm.with_structured_output(RouterSchema) \n",
    "\n",
    "# Initialize the LLM, enforcing tool use (of any available tools) for agent\n",
    "llm = init_chat_model(\"openai:gpt-4.1\", temperature=0.0)\n",
    "llm_with_tools = llm.bind_tools(tools, tool_choice=\"auto\")\n",
    "\n",
    "print(\"🤖 LLM instances configured:\")\n",
    "print(f\"   - Router LLM: {llm_router}\")\n",
    "print(f\"   - Agent LLM with tools: {llm_with_tools}\")"
   ]
  },
  {
   "cell_type": "markdown",
   "id": "f7222980",
   "metadata": {},
   "source": [
    "## 4. Memory Management Functions\n",
    "\n",
    "Functies voor het beheren van geheugen (preferences en background info)."
   ]
  },
  {
   "cell_type": "code",
   "execution_count": 61,
   "id": "1d0d9d52",
   "metadata": {},
   "outputs": [
    {
     "name": "stdout",
     "output_type": "stream",
     "text": [
      "🧠 Memory management functions defined\n"
     ]
    }
   ],
   "source": [
    "def get_memory(store, namespace, default_content=None):\n",
    "    \"\"\"Get memory from the store or initialize with default if it doesn't exist.\n",
    "    \n",
    "    Args:\n",
    "        store: LangGraph BaseStore instance to search for existing memory\n",
    "        namespace: Tuple defining the memory namespace, e.g. (\"tweedekamer_assistant\", \"triage_preferences\")\n",
    "        default_content: Default content to use if memory doesn't exist\n",
    "        \n",
    "    Returns:\n",
    "        str: The content of the memory profile, either from existing memory or the default\n",
    "    \"\"\"\n",
    "    # Search for existing memory with namespace and key\n",
    "    user_preferences = store.get(namespace, \"user_preferences\")\n",
    "    \n",
    "    # If memory exists, return its content (the value)\n",
    "    if user_preferences:\n",
    "        return user_preferences.value\n",
    "    \n",
    "    # If memory doesn't exist, add it to the store and return the default content\n",
    "    else:\n",
    "        # Namespace, key, value\n",
    "        store.put(namespace, \"user_preferences\", default_content)\n",
    "        user_preferences = default_content\n",
    "    \n",
    "    # Return the default content\n",
    "    return user_preferences \n",
    "\n",
    "def update_memory(store, namespace, messages):\n",
    "    \"\"\"Update memory profile in the store.\n",
    "    \n",
    "    Args:\n",
    "        store: LangGraph BaseStore instance to update memory\n",
    "        namespace: Tuple defining the memory namespace, e.g. (\"tweedekamer_assistant\", \"triage_preferences\")\n",
    "        messages: List of messages to update the memory with\n",
    "    \"\"\"\n",
    "    # Get the existing memory\n",
    "    user_preferences = store.get(namespace, \"user_preferences\")\n",
    "    # Update the memory\n",
    "    llm = init_chat_model(\"openai:gpt-4.1\", temperature=0.0).with_structured_output(UserPreferences)\n",
    "    result = llm.invoke(\n",
    "        [\n",
    "            {\"role\": \"system\", \"content\": MEMORY_UPDATE_INSTRUCTIONS.format(current_profile=user_preferences.value, namespace=namespace)},\n",
    "        ] + messages\n",
    "    )\n",
    "    # Save the updated memory to the store\n",
    "    store.put(namespace, \"user_preferences\", result.user_preferences)\n",
    "\n",
    "print(\"🧠 Memory management functions defined\")"
   ]
  },
  {
   "cell_type": "markdown",
   "id": "610b0e87",
   "metadata": {},
   "source": [
    "## 5. Triage Router Node\n",
    "\n",
    "De triage node die besluit of een email ignored, genotificeerd, of beantwoord moet worden."
   ]
  },
  {
   "cell_type": "code",
   "execution_count": 62,
   "id": "7b333bec",
   "metadata": {},
   "outputs": [
    {
     "name": "stdout",
     "output_type": "stream",
     "text": [
      "🔀 Triage router function defined\n"
     ]
    }
   ],
   "source": [
    "def triage_router(state: State, store: BaseStore) -> Command[Literal[\"triage_interrupt_handler\", \"response_agent\", \"__end__\"]]:\n",
    "    \"\"\"Analyseer email content om te beslissen of we moeten reageren, notificeren, of negeren.\n",
    "\n",
    "    De triage stap voorkomt dat de assistent tijd verspilt aan:\n",
    "    - Marketing emails en spam\n",
    "    - Bedrijfsbrede aankondigingen\n",
    "    - Berichten bedoeld voor andere teams\n",
    "    \"\"\"\n",
    "    \n",
    "    # Parse the email input\n",
    "    author, to, subject, email_thread, email_id = parse_gmail(state[\"email_input\"])\n",
    "    user_prompt = triage_user_prompt.format(\n",
    "        author=author, to=to, subject=subject, email_thread=email_thread\n",
    "    )\n",
    "\n",
    "    # Create email markdown for Agent Inbox in case of notification  \n",
    "    email_markdown = format_gmail_markdown(subject, author, to, email_thread, email_id)\n",
    "\n",
    "    # Search for existing triage_preferences memory\n",
    "    triage_instructions = get_memory(store, (\"tweedekamer_assistant\", \"triage_preferences\"), tweedekamer_triage_instructions)\n",
    "\n",
    "    # Format system prompt with background and triage instructions\n",
    "    system_prompt = triage_system_prompt.format(\n",
    "        background=tweedekamer_background,\n",
    "        triage_instructions=triage_instructions,\n",
    "    )\n",
    "\n",
    "    # Run the router LLM\n",
    "    result = llm_router.invoke(\n",
    "        [\n",
    "            {\"role\": \"system\", \"content\": system_prompt},\n",
    "            {\"role\": \"user\", \"content\": user_prompt},\n",
    "        ]\n",
    "    )\n",
    "\n",
    "    # Decision\n",
    "    classification = result.classification\n",
    "\n",
    "    # Process the classification decision\n",
    "    if classification == \"respond\":\n",
    "        print(\"📧 Classification: RESPOND - This email requires a response\")\n",
    "        # Next node\n",
    "        goto = \"response_agent\"\n",
    "        # Update the state\n",
    "        update = {\n",
    "            \"classification_decision\": result.classification,\n",
    "            \"messages\": [{\"role\": \"user\",\n",
    "                            \"content\": f\"Respond to the email: {email_markdown}\"\n",
    "                        }],\n",
    "        }\n",
    "        \n",
    "    elif classification == \"ignore\":\n",
    "        print(\"🚫 Classification: IGNORE - This email can be safely ignored\")\n",
    "\n",
    "        # Next node\n",
    "        goto = END\n",
    "        # Update the state\n",
    "        update = {\n",
    "            \"classification_decision\": classification,\n",
    "        }\n",
    "\n",
    "    elif classification == \"notify\":\n",
    "        print(\"🔔 Classification: NOTIFY - This email contains important information\") \n",
    "\n",
    "        # Next node\n",
    "        goto = \"triage_interrupt_handler\"\n",
    "        # Update the state\n",
    "        update = {\n",
    "            \"classification_decision\": classification,\n",
    "        }\n",
    "\n",
    "    else:\n",
    "        raise ValueError(f\"Invalid classification: {classification}\")\n",
    "    \n",
    "    return Command(goto=goto, update=update)\n",
    "\n",
    "print(\"🔀 Triage router function defined\")"
   ]
  },
  {
   "cell_type": "markdown",
   "id": "eccf3ebc",
   "metadata": {},
   "source": [
    "## 6. Triage Interrupt Handler\n",
    "\n",
    "Behandelt interrupts van de triage stap (voor notify classificaties)."
   ]
  },
  {
   "cell_type": "code",
   "execution_count": 63,
   "id": "889e69c1",
   "metadata": {},
   "outputs": [
    {
     "name": "stdout",
     "output_type": "stream",
     "text": [
      "🔔 Triage interrupt handler function defined\n"
     ]
    }
   ],
   "source": [
    "def triage_interrupt_handler(state: State, store: BaseStore) -> Command[Literal[\"response_agent\", \"__end__\"]]:\n",
    "    \"\"\"Handles interrupts from the triage step\"\"\"\n",
    "    \n",
    "    # Parse the email input\n",
    "    author, to, subject, email_thread, email_id = parse_gmail(state[\"email_input\"])\n",
    "\n",
    "    # Create email markdown for Agent Inbox in case of notification  \n",
    "    email_markdown = format_gmail_markdown(subject, author, to, email_thread, email_id)\n",
    "\n",
    "    # Create messages\n",
    "    messages = [{\"role\": \"user\",\n",
    "                \"content\": f\"Email to notify user about: {email_markdown}\"\n",
    "                }]\n",
    "\n",
    "    # Create interrupt for Agent Inbox\n",
    "    request = {\n",
    "        \"action_request\": {\n",
    "            \"action\": f\"Tweede Kamer Assistant: {state['classification_decision']}\",\n",
    "            \"args\": {}\n",
    "        },\n",
    "        \"config\": {\n",
    "            \"allow_ignore\": True,  \n",
    "            \"allow_respond\": True,\n",
    "            \"allow_edit\": False, \n",
    "            \"allow_accept\": False,  \n",
    "        },\n",
    "        # Email to show in Agent Inbox\n",
    "        \"description\": email_markdown,\n",
    "    }\n",
    "\n",
    "    # Send to Agent Inbox and wait for response\n",
    "    response = interrupt([request])[0]\n",
    "\n",
    "    # If user provides feedback, go to response agent and use feedback to respond to email   \n",
    "    if response[\"type\"] == \"response\":\n",
    "        # Add feedback to messages \n",
    "        user_input = response[\"args\"]\n",
    "        messages.append({\"role\": \"user\",\n",
    "                        \"content\": f\"User wants to reply to the email. Use this feedback to respond: {user_input}\"\n",
    "                        })\n",
    "        # Update memory with feedback\n",
    "        update_memory(store, (\"tweedekamer_assistant\", \"triage_preferences\"), [{\n",
    "            \"role\": \"user\",\n",
    "            \"content\": f\"The user decided to respond to the email, so update the triage preferences to capture this.\"\n",
    "        }] + messages)\n",
    "\n",
    "        goto = \"response_agent\"\n",
    "\n",
    "    # If user ignores email, go to END\n",
    "    elif response[\"type\"] == \"ignore\":\n",
    "        # Make note of the user's decision to ignore the email\n",
    "        messages.append({\"role\": \"user\",\n",
    "                        \"content\": f\"The user decided to ignore the email even though it was classified as notify. Update triage preferences to capture this.\"\n",
    "                        })\n",
    "        # Update memory with feedback \n",
    "        update_memory(store, (\"tweedekamer_assistant\", \"triage_preferences\"), messages)\n",
    "        goto = END\n",
    "\n",
    "    # Catch all other responses\n",
    "    else:\n",
    "        raise ValueError(f\"Invalid response: {response}\")\n",
    "\n",
    "    # Update the state \n",
    "    update = {\n",
    "        \"messages\": messages,\n",
    "    }\n",
    "\n",
    "    return Command(goto=goto, update=update)\n",
    "\n",
    "print(\"🔔 Triage interrupt handler function defined\")"
   ]
  },
  {
   "cell_type": "markdown",
   "id": "6755c9a7",
   "metadata": {},
   "source": [
    "## 7. LLM Call Node\n",
    "\n",
    "De core LLM node die tools aanroept. Dit is de **vereenvoudigde** versie zonder complexe guards."
   ]
  },
  {
   "cell_type": "code",
   "execution_count": 64,
   "id": "ca0355fd",
   "metadata": {},
   "outputs": [
    {
     "name": "stdout",
     "output_type": "stream",
     "text": [
      "🤖 LLM call function defined (simplified version)\n"
     ]
    }
   ],
   "source": [
    "def llm_call(state: State, store: BaseStore):\n",
    "    \"\"\"LLM decides whether to call a tool or not\"\"\"\n",
    "    \n",
    "    # Search for existing response_preferences memory\n",
    "    response_preferences = get_memory(store, (\"tweedekamer_assistant\", \"response_preferences\"), tweedekamer_response_preferences)\n",
    "    \n",
    "    # Search for existing background memory\n",
    "    background_info = get_memory(store, (\"tweedekamer_assistant\", \"background\"), tweedekamer_background)\n",
    "\n",
    "    return {\n",
    "        \"messages\": [\n",
    "            llm_with_tools.invoke(\n",
    "                [\n",
    "                    {\"role\": \"system\", \"content\": agent_system_prompt_tweedekamer.format(\n",
    "                        tools_prompt=TOOLS_TWEEDEKAMER_PROMPT,\n",
    "                        background=background_info,\n",
    "                        response_preferences=response_preferences\n",
    "                    )}\n",
    "                ]\n",
    "                + state[\"messages\"]\n",
    "            )\n",
    "        ]\n",
    "    }\n",
    "\n",
    "print(\"🤖 LLM call function defined (simplified version)\")"
   ]
  },
  {
   "cell_type": "markdown",
   "id": "d5da6081",
   "metadata": {},
   "source": [
    "## 8. Interrupt Handler\n",
    "\n",
    "Behandelt Human-in-the-Loop interrupts voor tool calls."
   ]
  },
  {
   "cell_type": "code",
   "execution_count": 65,
   "id": "70569fd0",
   "metadata": {},
   "outputs": [
    {
     "name": "stdout",
     "output_type": "stream",
     "text": [
      "🛑 Interrupt handler function defined with consistent clarification_tool handling\n"
     ]
    }
   ],
   "source": [
    "def interrupt_handler(state: State, store: BaseStore) -> Command[Literal[\"llm_call\", \"__end__\"]]:\n",
    "    \"\"\"Creates an interrupt for human review of tool calls\"\"\"\n",
    "\n",
    "    result = []\n",
    "    goto = \"llm_call\"\n",
    "\n",
    "    for tool_call in state[\"messages\"][-1].tool_calls:\n",
    "        # Allowed tools for HITL\n",
    "        hitl_tools = [\"send_email_tool\", \"Question\", \"clarification_tool\"]\n",
    "\n",
    "        # If tool is not in our HITL list, execute it directly without interruption\n",
    "        if tool_call[\"name\"] not in hitl_tools:\n",
    "            tool = tools_by_name[tool_call[\"name\"]]\n",
    "            observation = tool.invoke(tool_call[\"args\"])\n",
    "            result.append({\"role\": \"tool\", \"name\": tool_call[\"name\"], \"content\": observation, \"tool_call_id\": tool_call[\"id\"]})\n",
    "            continue\n",
    "\n",
    "        # Get original email from email_input in state\n",
    "        email_input = state[\"email_input\"]\n",
    "        author, to, subject, email_thread, email_id = parse_gmail(email_input)\n",
    "        original_email_markdown = format_gmail_markdown(subject, author, to, email_thread, email_id)\n",
    "\n",
    "        # Format tool call for display and prepend the original email\n",
    "        tool_display = format_for_display(tool_call)\n",
    "        description = original_email_markdown + tool_display\n",
    "\n",
    "        # Configure what actions are allowed in Agent Inbox\n",
    "        if tool_call[\"name\"] == \"send_email_tool\":\n",
    "            config = {\n",
    "                \"allow_ignore\": True,\n",
    "                \"allow_respond\": True,\n",
    "                \"allow_edit\": True,\n",
    "                \"allow_accept\": True,\n",
    "            }\n",
    "        elif tool_call[\"name\"] == \"Question\":\n",
    "            config = {\n",
    "                \"allow_ignore\": True,\n",
    "                \"allow_respond\": True,\n",
    "                \"allow_edit\": False,\n",
    "                \"allow_accept\": False,\n",
    "            }\n",
    "        elif tool_call[\"name\"] == \"clarification_tool\":\n",
    "            # Same config as send_email_tool for consistent experience\n",
    "            config = {\n",
    "                \"allow_ignore\": True,\n",
    "                \"allow_respond\": True,\n",
    "                \"allow_edit\": True,\n",
    "                \"allow_accept\": True,\n",
    "            }\n",
    "        else:\n",
    "            raise ValueError(f\"Invalid tool call: {tool_call['name']}\")\n",
    "\n",
    "        # Create the interrupt request\n",
    "        request = {\n",
    "            \"action_request\": {\"action\": tool_call[\"name\"], \"args\": tool_call[\"args\"]},\n",
    "            \"config\": config,\n",
    "            \"description\": description,\n",
    "        }\n",
    "\n",
    "        # Send to Agent Inbox and wait for response\n",
    "        response = interrupt([request])[0]\n",
    "\n",
    "        # Handle response types\n",
    "        if response[\"type\"] == \"accept\":\n",
    "            tool = tools_by_name[tool_call[\"name\"]]\n",
    "            observation = tool.invoke(tool_call[\"args\"])\n",
    "            result.append({\"role\": \"tool\", \"name\": tool_call[\"name\"], \"content\": observation, \"tool_call_id\": tool_call[\"id\"]})\n",
    "\n",
    "        elif response[\"type\"] == \"edit\":\n",
    "            tool = tools_by_name[tool_call[\"name\"]]\n",
    "            initial_tool_call = tool_call[\"args\"]\n",
    "            edited_args = response[\"args\"][\"args\"]\n",
    "\n",
    "            ai_message = state[\"messages\"][-1]\n",
    "            current_id = tool_call[\"id\"]\n",
    "            updated_tool_calls = [tc for tc in ai_message.tool_calls if tc[\"id\"] != current_id] + [\n",
    "                {\"type\": \"tool_call\", \"name\": tool_call[\"name\"], \"args\": edited_args, \"id\": current_id}\n",
    "            ]\n",
    "\n",
    "            result.append(ai_message.model_copy(update={\"tool_calls\": updated_tool_calls}))\n",
    "\n",
    "            if tool_call[\"name\"] in [\"send_email_tool\", \"clarification_tool\"]:\n",
    "                observation = tool.invoke(edited_args)\n",
    "                result.append({\"role\": \"tool\", \"name\": tool_call[\"name\"], \"content\": observation, \"tool_call_id\": current_id})\n",
    "\n",
    "                # Update memory for send_email_tool edits\n",
    "                if tool_call[\"name\"] == \"send_email_tool\":\n",
    "                    update_memory(store, (\"tweedekamer_assistant\", \"response_preferences\"), [{\n",
    "                        \"role\": \"user\",\n",
    "                        \"content\": f\"User edited the email response. Here is the initial email generated by the assistant: {initial_tool_call}. Here is the edited email: {edited_args}. Follow all instructions above, and remember: {MEMORY_UPDATE_INSTRUCTIONS_REINFORCEMENT}.\"\n",
    "                    }])\n",
    "            else:\n",
    "                raise ValueError(f\"Invalid tool call for edit: {tool_call['name']}\")\n",
    "\n",
    "        elif response[\"type\"] == \"ignore\":\n",
    "            if tool_call[\"name\"] == \"send_email_tool\":\n",
    "                result.append({\"role\": \"tool\", \"name\": tool_call[\"name\"], \"content\": \"User ignored this email draft. Ignore this email and end the workflow.\", \"tool_call_id\": tool_call[\"id\"]})\n",
    "                goto = END\n",
    "                update_memory(store, (\"tweedekamer_assistant\", \"triage_preferences\"), state[\"messages\"] + result + [{\n",
    "                    \"role\": \"user\",\n",
    "                    \"content\": f\"The user ignored the email draft. That means they did not want to respond to the email. Update the triage preferences to ensure emails of this type are not classified as respond. Follow all instructions above, and remember: {MEMORY_UPDATE_INSTRUCTIONS_REINFORCEMENT}.\"\n",
    "                }])\n",
    "\n",
    "            elif tool_call[\"name\"] == \"Question\":\n",
    "                result.append({\"role\": \"tool\", \"name\": tool_call[\"name\"], \"content\": \"User ignored this question. Ignore this email and end the workflow.\", \"tool_call_id\": tool_call[\"id\"]})\n",
    "                goto = END\n",
    "                update_memory(store, (\"tweedekamer_assistant\", \"triage_preferences\"), state[\"messages\"] + result + [{\n",
    "                    \"role\": \"user\",\n",
    "                    \"content\": f\"The user ignored the Question. That means they did not want to answer the question or deal with this email. Update the triage preferences to ensure emails of this type are not classified as respond. Follow all instructions above, and remember: {MEMORY_UPDATE_INSTRUCTIONS_REINFORCEMENT}.\"\n",
    "                }])\n",
    "                \n",
    "            elif tool_call[\"name\"] == \"clarification_tool\":\n",
    "                result.append({\"role\": \"tool\", \"name\": tool_call[\"name\"], \"content\": \"User ignored the clarification request. Unable to proceed without more information.\", \"tool_call_id\": tool_call[\"id\"]})\n",
    "                goto = END\n",
    "                \n",
    "            else:\n",
    "                raise ValueError(f\"Invalid tool call: {tool_call['name']}\")\n",
    "\n",
    "        elif response[\"type\"] == \"response\":\n",
    "            user_feedback = response[\"args\"]\n",
    "            if tool_call[\"name\"] == \"send_email_tool\":\n",
    "                result.append({\"role\": \"tool\", \"name\": tool_call[\"name\"], \"content\": f\"User gave feedback, which can we incorporate into the email. Feedback: {user_feedback}\", \"tool_call_id\": tool_call[\"id\"]})\n",
    "                update_memory(store, (\"tweedekamer_assistant\", \"response_preferences\"), state[\"messages\"] + result + [{\n",
    "                    \"role\": \"user\",\n",
    "                    \"content\": f\"User gave feedback, which we can use to update the response preferences. Follow all instructions above, and remember: {MEMORY_UPDATE_INSTRUCTIONS_REINFORCEMENT}.\"\n",
    "                }])\n",
    "\n",
    "            elif tool_call[\"name\"] == \"Question\":\n",
    "                result.append({\"role\": \"tool\", \"name\": tool_call[\"name\"], \"content\": f\"User answered the question, which can we can use for any follow up actions. Feedback: {user_feedback}\", \"tool_call_id\": tool_call[\"id\"]})\n",
    "\n",
    "            elif tool_call[\"name\"] == \"clarification_tool\":\n",
    "                # User provided clarification - add to messages for next llm_call\n",
    "                clarification_response = f\"User provided clarification: {user_feedback}\"\n",
    "                result.append({\"role\": \"tool\", \"name\": tool_call[\"name\"], \"content\": clarification_response, \"tool_call_id\": tool_call[\"id\"]})\n",
    "                \n",
    "                result.append({\n",
    "                    \"role\": \"user\", \n",
    "                    \"content\": f\"Aanvullende informatie ontvangen: {user_feedback}. Gebruik deze informatie nu om de juiste API call uit te voeren.\"\n",
    "                })\n",
    "\n",
    "            else:\n",
    "                raise ValueError(f\"Invalid tool call: {tool_call['name']}\")\n",
    "\n",
    "    update = {\"messages\": result}\n",
    "    return Command(goto=goto, update=update)\n",
    "\n",
    "print(\"🛑 Interrupt handler function defined with consistent clarification_tool handling\")"
   ]
  },
  {
   "cell_type": "markdown",
   "id": "0bfd7287",
   "metadata": {},
   "source": [
    "## 9. Conditional Routing\n",
    "\n",
    "De **vereenvoudigde** should_continue functie zonder complexe flags."
   ]
  },
  {
   "cell_type": "code",
   "execution_count": 66,
   "id": "d5d01139",
   "metadata": {},
   "outputs": [
    {
     "name": "stdout",
     "output_type": "stream",
     "text": [
      "🔀 Should continue function defined (simplified version with debug prints)\n"
     ]
    }
   ],
   "source": [
    "def should_continue(state: State, store: BaseStore) -> Literal[\"interrupt_handler\", \"mark_as_read_node\"]:\n",
    "    \"\"\"Route to tool handler, or end if Done tool called\"\"\"\n",
    "    messages = state[\"messages\"]\n",
    "    last_message = messages[-1]\n",
    "    \n",
    "    print(f\"🔍 should_continue: Checking last message type: {type(last_message).__name__}\")\n",
    "    \n",
    "    # Check for tool calls\n",
    "    if hasattr(last_message, 'tool_calls') and last_message.tool_calls:\n",
    "        print(f\"🔧 Found {len(last_message.tool_calls)} tool calls:\")\n",
    "        \n",
    "        for tool_call in last_message.tool_calls:\n",
    "            tool_name = tool_call[\"name\"]\n",
    "            print(f\"   - {tool_name}\")\n",
    "            \n",
    "            if tool_name == \"Done\":\n",
    "                print(\"🏁 Done tool found → going to mark_as_read_node\")\n",
    "                return \"mark_as_read_node\"\n",
    "        \n",
    "        print(\"🛑 Non-Done tool calls found → going to interrupt_handler\")\n",
    "        return \"interrupt_handler\"\n",
    "    \n",
    "    # Default: mark as read (no tool calls means we're done)\n",
    "    print(\"📝 No tool calls found → going to mark_as_read_node\")\n",
    "    return \"mark_as_read_node\"\n",
    "\n",
    "print(\"🔀 Should continue function defined (simplified version with debug prints)\")"
   ]
  },
  {
   "cell_type": "markdown",
   "id": "01f15e98",
   "metadata": {},
   "source": [
    "## 10. Mark as Read Node\n",
    "\n",
    "Markeert emails als gelezen na verwerking."
   ]
  },
  {
   "cell_type": "code",
   "execution_count": 67,
   "id": "10558b96",
   "metadata": {},
   "outputs": [
    {
     "name": "stdout",
     "output_type": "stream",
     "text": [
      "📖 Mark as read function defined\n"
     ]
    }
   ],
   "source": [
    "def mark_as_read_node(state: State):\n",
    "    \"\"\"Mark email as read after processing.\"\"\"\n",
    "    email_input = state[\"email_input\"]\n",
    "    author, to, subject, email_thread, email_id = parse_gmail(email_input)\n",
    "    \n",
    "    # Only mark as read if it's a real Gmail ID (not a test/mock ID)\n",
    "    if email_id and not email_id.startswith(('test-', 'langsmith-', 'mock-', 'debug-')):\n",
    "        try:\n",
    "            mark_as_read(email_id)\n",
    "            print(f\"✅ Email {email_id} marked as read\")\n",
    "        except Exception as e:\n",
    "            print(f\"⚠️ Could not mark email {email_id} as read: {e}\")\n",
    "    else:\n",
    "        print(f\"⏭️ Skipping mark as read for test email ID: {email_id}\")\n",
    "\n",
    "print(\"📖 Mark as read function defined\")"
   ]
  },
  {
   "cell_type": "markdown",
   "id": "64394cba",
   "metadata": {},
   "source": [
    "## 11. Graph Construction\n",
    "\n",
    "Bouw de StateGraph workflows."
   ]
  },
  {
   "cell_type": "code",
   "execution_count": 68,
   "id": "d06df769",
   "metadata": {},
   "outputs": [
    {
     "name": "stdout",
     "output_type": "stream",
     "text": [
      "🔧 Response agent compiled (will use main memory store)\n"
     ]
    }
   ],
   "source": [
    "# Build workflow\n",
    "agent_builder = StateGraph(State)\n",
    "\n",
    "# Add nodes - with store parameter\n",
    "agent_builder.add_node(\"llm_call\", llm_call)\n",
    "agent_builder.add_node(\"interrupt_handler\", interrupt_handler)\n",
    "agent_builder.add_node(\"mark_as_read_node\", mark_as_read_node)\n",
    "\n",
    "# Add edges\n",
    "agent_builder.add_edge(START, \"llm_call\")\n",
    "agent_builder.add_conditional_edges(\n",
    "    \"llm_call\",\n",
    "    should_continue,\n",
    "    {\n",
    "        \"interrupt_handler\": \"interrupt_handler\",\n",
    "        \"mark_as_read_node\": \"mark_as_read_node\",\n",
    "    },\n",
    ")\n",
    "agent_builder.add_edge(\"mark_as_read_node\", END)\n",
    "\n",
    "# Compile the agent - we'll use the main memory store when this gets used\n",
    "response_agent = agent_builder.compile()\n",
    "\n",
    "print(\"🔧 Response agent compiled (will use main memory store)\")"
   ]
  },
  {
   "cell_type": "markdown",
   "id": "353ba542",
   "metadata": {},
   "source": [
    "## 12. Overall Workflow Construction\n",
    "\n",
    "Bouw de complete email assistant workflow."
   ]
  },
  {
   "cell_type": "code",
   "execution_count": 69,
   "id": "dd3445ec",
   "metadata": {},
   "outputs": [
    {
     "name": "stdout",
     "output_type": "stream",
     "text": [
      "🎯 Overall email assistant workflow compiled with memory store\n",
      "🧠 Memory store configured for user preferences and background info\n",
      "\n",
      "✅ All functions and workflows are ready for testing!\n"
     ]
    }
   ],
   "source": [
    "# Create memory store for managing user preferences and background info\n",
    "memory_store = InMemoryStore()\n",
    "\n",
    "# Build overall workflow\n",
    "overall_workflow = (\n",
    "    StateGraph(State, input_schema=StateInput)\n",
    "    .add_node(triage_router)\n",
    "    .add_node(triage_interrupt_handler)\n",
    "    .add_node(\"response_agent\", response_agent)\n",
    "    .add_node(\"mark_as_read_node\", mark_as_read_node)\n",
    "    .add_edge(START, \"triage_router\")\n",
    "    .add_edge(\"mark_as_read_node\", END)\n",
    ")\n",
    "\n",
    "# Compile with memory store and interrupts for HITL\n",
    "email_assistant = overall_workflow.compile(store=memory_store)\n",
    "\n",
    "print(\"🎯 Overall email assistant workflow compiled with memory store\")\n",
    "print(\"🧠 Memory store configured for user preferences and background info\")\n",
    "print(\"\\n✅ All functions and workflows are ready for testing!\")"
   ]
  },
  {
   "cell_type": "markdown",
   "id": "8f417b04",
   "metadata": {},
   "source": [
    "## 13. Test Setup\n",
    "\n",
    "Setup voor het testen van de assistant met mock data."
   ]
  },
  {
   "cell_type": "code",
   "execution_count": 70,
   "id": "6ef1626d",
   "metadata": {},
   "outputs": [
    {
     "name": "stdout",
     "output_type": "stream",
     "text": [
      "📧 Test email data prepared:\n",
      "Subject: Vraag over stemming klimaatwet\n",
      "From: franklin@example.com\n",
      "Body preview: Hallo, ik wil graag weten hoe de Tweede Kamer heeft gestemd over de nieuwe klimaatwet. Kunnen jullie...\n"
     ]
    }
   ],
   "source": [
    "# Test email data\n",
    "test_email = {\n",
    "    \"subject\": \"Vraag over stemming klimaatwet\",\n",
    "    \"from\": \"franklin@example.com\",\n",
    "    \"to\": \"assistant@tweedekamer.nl\", \n",
    "    \"body\": \"Hallo, ik wil graag weten hoe de Tweede Kamer heeft gestemd over de nieuwe klimaatwet. Kunnen jullie mij de stemmingsresultaten doorsturen? Dank je wel, Franklin\",\n",
    "    \"thread_id\": \"test-thread-123\",\n",
    "    \"id\": \"test-email-456\"\n",
    "}\n",
    "\n",
    "print(\"📧 Test email data prepared:\")\n",
    "print(f\"Subject: {test_email['subject']}\")\n",
    "print(f\"From: {test_email['from']}\")\n",
    "print(f\"Body preview: {test_email['body'][:100]}...\")"
   ]
  },
  {
   "cell_type": "markdown",
   "id": "3dd12e99",
   "metadata": {},
   "source": [
    "## 14. Debug Functions\n",
    "\n",
    "Helper functions voor debugging."
   ]
  },
  {
   "cell_type": "code",
   "execution_count": 71,
   "id": "98a1ab93",
   "metadata": {},
   "outputs": [
    {
     "name": "stdout",
     "output_type": "stream",
     "text": [
      "🐛 Debug functions ready\n"
     ]
    }
   ],
   "source": [
    "def print_state(state, title=\"State\"):\n",
    "    \"\"\"Pretty print state for debugging\"\"\"\n",
    "    print(f\"\\n=== {title} ===\")\n",
    "    print(f\"Email Input: {state.get('email_input', {}).get('subject', 'No subject')}\")\n",
    "    print(f\"Classification: {state.get('classification_decision', 'None')}\")\n",
    "    print(f\"Messages count: {len(state.get('messages', []))}\")\n",
    "    \n",
    "    if state.get('messages'):\n",
    "        last_msg = state['messages'][-1]\n",
    "        if hasattr(last_msg, 'tool_calls') and last_msg.tool_calls:\n",
    "            print(f\"Last message has {len(last_msg.tool_calls)} tool calls:\")\n",
    "            for tc in last_msg.tool_calls:\n",
    "                print(f\"  - {tc['name']}: {list(tc['args'].keys())}\")\n",
    "        else:\n",
    "            print(f\"Last message: {type(last_msg).__name__}\")\n",
    "    print(\"=\" * (len(title) + 8))\n",
    "\n",
    "def print_messages(messages, title=\"Messages\"):\n",
    "    \"\"\"Pretty print messages for debugging\"\"\"\n",
    "    print(f\"\\n=== {title} ===\")\n",
    "    for i, msg in enumerate(messages):\n",
    "        role = getattr(msg, 'role', msg.get('role', 'unknown'))\n",
    "        if hasattr(msg, 'tool_calls') and msg.tool_calls:\n",
    "            print(f\"{i+1}. {role} (with {len(msg.tool_calls)} tool calls)\")\n",
    "        else:\n",
    "            content = getattr(msg, 'content', msg.get('content', ''))\n",
    "            preview = content[:100] + \"...\" if len(content) > 100 else content\n",
    "            print(f\"{i+1}. {role}: {preview}\")\n",
    "    print(\"=\" * (len(title) + 8))\n",
    "\n",
    "def debug_workflow_step(step_name, state_before, state_after):\n",
    "    \"\"\"Debug een workflow stap\"\"\"\n",
    "    print(f\"\\n🔍 === DEBUG: {step_name} ===\")\n",
    "    print(f\"📥 State BEFORE:\")\n",
    "    print_state(state_before, \"Before\")\n",
    "    print(f\"📤 State AFTER:\")\n",
    "    print_state(state_after, \"After\")\n",
    "    print(\"=\" * 50)\n",
    "\n",
    "print(\"🐛 Debug functions ready\")"
   ]
  },
  {
   "cell_type": "markdown",
   "id": "891cc97f",
   "metadata": {},
   "source": [
    "## 15. Ready to Test!\n",
    "\n",
    "Nu kun je stap voor stap testen. Hier zijn voorbeelden:"
   ]
  },
  {
   "cell_type": "code",
   "execution_count": 72,
   "id": "8431b5d1",
   "metadata": {},
   "outputs": [
    {
     "name": "stdout",
     "output_type": "stream",
     "text": [
      "🧪 Test setup ready!\n",
      "\n",
      "🔧 Beschikbare test functies:\n",
      "1. Test individuele nodes:\n",
      "   - triage_router(state, store)\n",
      "   - llm_call(state, store)\n",
      "   - interrupt_handler(state, store)\n",
      "   - should_continue(state, store)\n",
      "\n",
      "2. Debug helpers:\n",
      "   - print_state(state, 'Custom Title')\n",
      "   - print_messages(state['messages'])\n",
      "   - debug_workflow_step('Step Name', before, after)\n",
      "\n",
      "3. Test de volledige workflow:\n",
      "   - email_assistant.invoke({'email_input': test_email})\n",
      "\n",
      "🎯 Tips voor debugging:\n",
      "- Run elke cell stap voor stap\n",
      "- Gebruik debug prints om de flow te volgen\n",
      "- Check state tussen elke stap met print_state()\n",
      "- De vereenvoudigde versie zou geen infinite loops moeten hebben!\n",
      "\n",
      "✅ Notebook is klaar voor gebruik!\n"
     ]
    }
   ],
   "source": [
    "# Voorbeeld: Test de vereenvoudigde workflow\n",
    "print(\"🧪 Test setup ready!\")\n",
    "print(\"\\n🔧 Beschikbare test functies:\")\n",
    "print(\"1. Test individuele nodes:\")\n",
    "print(\"   - triage_router(state, store)\")\n",
    "print(\"   - llm_call(state, store)\")\n",
    "print(\"   - interrupt_handler(state, store)\")\n",
    "print(\"   - should_continue(state, store)\")\n",
    "\n",
    "print(\"\\n2. Debug helpers:\")\n",
    "print(\"   - print_state(state, 'Custom Title')\")\n",
    "print(\"   - print_messages(state['messages'])\")\n",
    "print(\"   - debug_workflow_step('Step Name', before, after)\")\n",
    "\n",
    "print(\"\\n3. Test de volledige workflow:\")\n",
    "print(\"   - email_assistant.invoke({'email_input': test_email})\")\n",
    "\n",
    "print(\"\\n🎯 Tips voor debugging:\")\n",
    "print(\"- Run elke cell stap voor stap\")\n",
    "print(\"- Gebruik debug prints om de flow te volgen\")\n",
    "print(\"- Check state tussen elke stap met print_state()\")\n",
    "print(\"- De vereenvoudigde versie zou geen infinite loops moeten hebben!\")\n",
    "\n",
    "print(\"\\n✅ Notebook is klaar voor gebruik!\")"
   ]
  },
  {
   "cell_type": "code",
   "execution_count": 73,
   "id": "5761da30",
   "metadata": {},
   "outputs": [
    {
     "name": "stdout",
     "output_type": "stream",
     "text": [
      "📧 Test email data prepared:\n",
      "Subject: Vraag: overlast door varkensteelt in Brabant\n",
      "From: franklin@example.com\n",
      "Body preview: Hallo,\n",
      "\n",
      "Wanneer werd er in de kamer voor het laatst gesproken over de overlast door varkensteelt in ...\n"
     ]
    }
   ],
   "source": [
    "# Test email data\n",
    "# test_email = {\n",
    "#     \"subject\": \"Vraag over stemming klimaatwet\",\n",
    "#     \"from\": \"franklin@example.com\",\n",
    "#     \"to\": \"assistant@tweedekamer.nl\", \n",
    "#     \"body\": \"Hallo, ik wil graag weten hoe de Tweede Kamer heeft gestemd over de nieuwe klimaatwet. Kunnen jullie mij de stemmingsresultaten doorsturen? Dank je wel, Franklin\",\n",
    "#     \"thread_id\": \"test-thread-123\",\n",
    "#     \"id\": \"test-email-456\"\n",
    "# }\n",
    "\n",
    "test_email = {\n",
    "    \"subject\": \"Vraag: overlast door varkensteelt in Brabant\",\n",
    "    \"from\": \"franklin@example.com\",\n",
    "    \"to\": \"assistant@tweedekamer.nl\", \n",
    "    \"body\": \"Hallo,\\n\\nWanneer werd er in de kamer voor het laatst gesproken over de overlast door varkensteelt in Brabant?\",\n",
    "    \"thread_id\": \"test-thread-123\",\n",
    "    \"id\": \"test-email-456\"\n",
    "}\n",
    "\n",
    "print(\"📧 Test email data prepared:\")\n",
    "print(f\"Subject: {test_email['subject']}\")\n",
    "print(f\"From: {test_email['from']}\")\n",
    "print(f\"Body preview: {test_email['body'][:100]}...\")"
   ]
  },
  {
   "cell_type": "code",
   "execution_count": 74,
   "id": "8553b7fc",
   "metadata": {},
   "outputs": [
    {
     "name": "stdout",
     "output_type": "stream",
     "text": [
      "!Email_input from Gmail!\n",
      "{'subject': 'Vraag: overlast door varkensteelt in Brabant', 'from': 'franklin@example.com', 'to': 'assistant@tweedekamer.nl', 'body': 'Hallo,\\n\\nWanneer werd er in de kamer voor het laatst gesproken over de overlast door varkensteelt in Brabant?', 'thread_id': 'test-thread-123', 'id': 'test-email-456'}\n"
     ]
    },
    {
     "name": "stderr",
     "output_type": "stream",
     "text": [
      "INFO:httpx:HTTP Request: POST https://api.openai.com/v1/chat/completions \"HTTP/1.1 200 OK\"\n"
     ]
    },
    {
     "name": "stdout",
     "output_type": "stream",
     "text": [
      "📧 Classification: RESPOND - This email requires a response\n"
     ]
    },
    {
     "name": "stderr",
     "output_type": "stream",
     "text": [
      "INFO:httpx:HTTP Request: POST https://api.openai.com/v1/chat/completions \"HTTP/1.1 200 OK\"\n"
     ]
    },
    {
     "name": "stdout",
     "output_type": "stream",
     "text": [
      "🔍 should_continue: Checking last message type: AIMessage\n",
      "🔧 Found 1 tool calls:\n",
      "   - get_kamerstukken\n",
      "🛑 Non-Done tool calls found → going to interrupt_handler\n",
      "📋 TWEEDE KAMER API CALL: get_kamerstukken(soort=None, dagen_terug=90, zoekterm=varkensteelt Brabant, limit=5)\n"
     ]
    },
    {
     "name": "stderr",
     "output_type": "stream",
     "text": [
      "INFO:httpx:HTTP Request: POST https://api.openai.com/v1/chat/completions \"HTTP/1.1 200 OK\"\n"
     ]
    },
    {
     "name": "stdout",
     "output_type": "stream",
     "text": [
      "🔍 should_continue: Checking last message type: AIMessage\n",
      "🔧 Found 1 tool calls:\n",
      "   - clarification_tool\n",
      "🛑 Non-Done tool calls found → going to interrupt_handler\n",
      "!Email_input from Gmail!\n",
      "{'subject': 'Vraag: overlast door varkensteelt in Brabant', 'from': 'franklin@example.com', 'to': 'assistant@tweedekamer.nl', 'body': 'Hallo,\\n\\nWanneer werd er in de kamer voor het laatst gesproken over de overlast door varkensteelt in Brabant?', 'thread_id': 'test-thread-123', 'id': 'test-email-456'}\n"
     ]
    },
    {
     "data": {
      "text/plain": [
       "{'messages': [HumanMessage(content='Respond to the email: \\n\\n**Subject**: Vraag: overlast door varkensteelt in Brabant\\n**From**: franklin@example.com\\n**To**: assistant@tweedekamer.nl\\n**ID**: test-email-456\\n\\nHallo,\\n\\nWanneer werd er in de kamer voor het laatst gesproken over de overlast door varkensteelt in Brabant?\\n\\n---\\n', additional_kwargs={}, response_metadata={}, id='bd925abf-2979-45f7-836e-d6311e69178c')],\n",
       " 'email_input': {'subject': 'Vraag: overlast door varkensteelt in Brabant',\n",
       "  'from': 'franklin@example.com',\n",
       "  'to': 'assistant@tweedekamer.nl',\n",
       "  'body': 'Hallo,\\n\\nWanneer werd er in de kamer voor het laatst gesproken over de overlast door varkensteelt in Brabant?',\n",
       "  'thread_id': 'test-thread-123',\n",
       "  'id': 'test-email-456'},\n",
       " 'classification_decision': 'respond',\n",
       " '__interrupt__': [Interrupt(value=[{'action_request': {'action': 'clarification_tool', 'args': {'target_tool': 'get_kamerstukken', 'missing_or_unclear_params': ['zoekterm'], 'user_request_context': 'Vraag naar het laatste moment waarop in de Tweede Kamer is gesproken over overlast door varkensteelt in Brabant.', 'suggestions': None}}, 'config': {'allow_ignore': True, 'allow_respond': True, 'allow_edit': True, 'allow_accept': True}, 'description': '\\n\\n**Subject**: Vraag: overlast door varkensteelt in Brabant\\n**From**: franklin@example.com\\n**To**: assistant@tweedekamer.nl\\n**ID**: test-email-456\\n\\nHallo,\\n\\nWanneer werd er in de kamer voor het laatst gesproken over de overlast door varkensteelt in Brabant?\\n\\n---\\n# Tool Call: clarification_tool\\n\\nArguments:\\n{\\n  \"target_tool\": \"get_kamerstukken\",\\n  \"missing_or_unclear_params\": [\\n    \"zoekterm\"\\n  ],\\n  \"user_request_context\": \"Vraag naar het laatste moment waarop in de Tweede Kamer is gesproken over overlast door varkensteelt in Brabant.\",\\n  \"suggestions\": null\\n}\\n'}], id='89a96c09d5835d57217ca627191ef6e6')]}"
      ]
     },
     "execution_count": 74,
     "metadata": {},
     "output_type": "execute_result"
    }
   ],
   "source": [
    "email_assistant.invoke({'email_input': test_email})"
   ]
  },
  {
   "cell_type": "code",
   "execution_count": 75,
   "id": "7b582aaa",
   "metadata": {},
   "outputs": [
    {
     "name": "stdout",
     "output_type": "stream",
     "text": [
      "🔄 Recompiling workflows with updated interrupt_handler...\n",
      "✅ Workflows recompiled successfully!\n",
      "🎯 clarification_tool now has same HITL behavior as send_email_tool\n"
     ]
    }
   ],
   "source": [
    "# Recompile workflows after making changes to interrupt_handler\n",
    "print(\"🔄 Recompiling workflows with updated interrupt_handler...\")\n",
    "\n",
    "# Recompile response_agent\n",
    "response_agent = agent_builder.compile()\n",
    "\n",
    "# Recompile overall workflow with updated functions\n",
    "email_assistant = overall_workflow.compile(store=memory_store)\n",
    "\n",
    "print(\"✅ Workflows recompiled successfully!\")\n",
    "print(\"🎯 clarification_tool now has same HITL behavior as send_email_tool\")"
   ]
  }
 ],
 "metadata": {
  "kernelspec": {
   "display_name": ".venv",
   "language": "python",
   "name": "python3"
  },
  "language_info": {
   "codemirror_mode": {
    "name": "ipython",
    "version": 3
   },
   "file_extension": ".py",
   "mimetype": "text/x-python",
   "name": "python",
   "nbconvert_exporter": "python",
   "pygments_lexer": "ipython3",
   "version": "3.12.3"
  }
 },
 "nbformat": 4,
 "nbformat_minor": 5
}
